{
 "cells": [
  {
   "cell_type": "markdown",
   "metadata": {},
   "source": [
    "### Covid19 cases and Climate in Germany \n",
    "\n",
    "This notebook seeks to rudimentarily explore the relationship between coronavirus cases in Germany and the temperature and humidity in the corresponding regions. \n",
    "\n",
    "According to the WHO, a number of environmental factors can influence the spread of communicable diseases that can cause epidemics. The most important of these are:\n",
    "1. Water supply\n",
    "2. Sanitation facilities\n",
    "3. Food\n",
    "4. Climate\n",
    "\n",
    "The underlying theory is the number of cases and the spread of previous infectious viruses demonstrate seasonal patterns, affected by climate, and so Covid19 should display similarity in this aspect. Plainly speaking, temperature and humidity, changed throughout seasons, have an effect on the number of virus contraction incidents. \n",
    "\n",
    "The following is a naive estimate of this relationship based on the number of confirmed cases in Germany as of March 15th, 2020 and the temperature and humidity of its regions. "
   ]
  },
  {
   "cell_type": "code",
   "execution_count": 1,
   "metadata": {
    "ExecuteTime": {
     "end_time": "2020-03-17T08:27:25.512830Z",
     "start_time": "2020-03-17T08:27:17.931733Z"
    }
   },
   "outputs": [],
   "source": [
    "import pandas as pd\n",
    "from statsmodels.regression.linear_model import OLS\n",
    "import numpy as np\n",
    "import seaborn as sns"
   ]
  },
  {
   "cell_type": "code",
   "execution_count": 2,
   "metadata": {
    "ExecuteTime": {
     "end_time": "2020-03-17T08:27:25.717673Z",
     "start_time": "2020-03-17T08:27:25.516392Z"
    }
   },
   "outputs": [
    {
     "data": {
      "application/javascript": [
       "\n",
       "        if (window._pyforest_update_imports_cell) { window._pyforest_update_imports_cell('import os'); }\n",
       "    "
      ],
      "text/plain": [
       "<IPython.core.display.Javascript object>"
      ]
     },
     "metadata": {},
     "output_type": "display_data"
    },
    {
     "data": {
      "text/html": [
       "<div>\n",
       "<style scoped>\n",
       "    .dataframe tbody tr th:only-of-type {\n",
       "        vertical-align: middle;\n",
       "    }\n",
       "\n",
       "    .dataframe tbody tr th {\n",
       "        vertical-align: top;\n",
       "    }\n",
       "\n",
       "    .dataframe thead th {\n",
       "        text-align: right;\n",
       "    }\n",
       "</style>\n",
       "<table border=\"1\" class=\"dataframe\">\n",
       "  <thead>\n",
       "    <tr style=\"text-align: right;\">\n",
       "      <th></th>\n",
       "      <th>2020-03-16 00:00:00</th>\n",
       "      <th>2020-03-15 00:00:00</th>\n",
       "      <th>2020-03-03 00:00:00</th>\n",
       "      <th>Min</th>\n",
       "      <th>Max</th>\n",
       "      <th>Humidity</th>\n",
       "      <th>Wind</th>\n",
       "    </tr>\n",
       "  </thead>\n",
       "  <tbody>\n",
       "    <tr>\n",
       "      <th>North Rhine-Westphalia</th>\n",
       "      <td>2744</td>\n",
       "      <td>2493</td>\n",
       "      <td>111</td>\n",
       "      <td>7</td>\n",
       "      <td>15</td>\n",
       "      <td>66</td>\n",
       "      <td>NaN</td>\n",
       "    </tr>\n",
       "    <tr>\n",
       "      <th>Baden-Wuerttemberg</th>\n",
       "      <td>1105</td>\n",
       "      <td>977</td>\n",
       "      <td>44</td>\n",
       "      <td>-1</td>\n",
       "      <td>15</td>\n",
       "      <td>64</td>\n",
       "      <td>NaN</td>\n",
       "    </tr>\n",
       "    <tr>\n",
       "      <th>Bavaria</th>\n",
       "      <td>1067</td>\n",
       "      <td>886</td>\n",
       "      <td>48</td>\n",
       "      <td>-4</td>\n",
       "      <td>14</td>\n",
       "      <td>70</td>\n",
       "      <td>NaN</td>\n",
       "    </tr>\n",
       "    <tr>\n",
       "      <th>Lower Saxony</th>\n",
       "      <td>391</td>\n",
       "      <td>287</td>\n",
       "      <td>4</td>\n",
       "      <td>4</td>\n",
       "      <td>14</td>\n",
       "      <td>59</td>\n",
       "      <td>NaN</td>\n",
       "    </tr>\n",
       "    <tr>\n",
       "      <th>Berlin</th>\n",
       "      <td>342</td>\n",
       "      <td>283</td>\n",
       "      <td>6</td>\n",
       "      <td>0</td>\n",
       "      <td>12</td>\n",
       "      <td>46</td>\n",
       "      <td>NaN</td>\n",
       "    </tr>\n",
       "    <tr>\n",
       "      <th>Hesse</th>\n",
       "      <td>332</td>\n",
       "      <td>282</td>\n",
       "      <td>12</td>\n",
       "      <td>3</td>\n",
       "      <td>14</td>\n",
       "      <td>62</td>\n",
       "      <td>NaN</td>\n",
       "    </tr>\n",
       "    <tr>\n",
       "      <th>Rhineland-Palatinate</th>\n",
       "      <td>325</td>\n",
       "      <td>200</td>\n",
       "      <td>2</td>\n",
       "      <td>3</td>\n",
       "      <td>14</td>\n",
       "      <td>62</td>\n",
       "      <td>NaN</td>\n",
       "    </tr>\n",
       "    <tr>\n",
       "      <th>Hamburg</th>\n",
       "      <td>260</td>\n",
       "      <td>196</td>\n",
       "      <td>2</td>\n",
       "      <td>3</td>\n",
       "      <td>14</td>\n",
       "      <td>61</td>\n",
       "      <td>24.0</td>\n",
       "    </tr>\n",
       "    <tr>\n",
       "      <th>Saxony</th>\n",
       "      <td>152</td>\n",
       "      <td>134</td>\n",
       "      <td>1</td>\n",
       "      <td>1</td>\n",
       "      <td>9</td>\n",
       "      <td>42</td>\n",
       "      <td>25.0</td>\n",
       "    </tr>\n",
       "    <tr>\n",
       "      <th>Schleswig-Holstein</th>\n",
       "      <td>123</td>\n",
       "      <td>123</td>\n",
       "      <td>2</td>\n",
       "      <td>6</td>\n",
       "      <td>13</td>\n",
       "      <td>65</td>\n",
       "      <td>22.0</td>\n",
       "    </tr>\n",
       "    <tr>\n",
       "      <th>Brandenburg</th>\n",
       "      <td>94</td>\n",
       "      <td>84</td>\n",
       "      <td>1</td>\n",
       "      <td>0</td>\n",
       "      <td>11</td>\n",
       "      <td>67</td>\n",
       "      <td>NaN</td>\n",
       "    </tr>\n",
       "    <tr>\n",
       "      <th>Saarland</th>\n",
       "      <td>85</td>\n",
       "      <td>74</td>\n",
       "      <td>1</td>\n",
       "      <td>5</td>\n",
       "      <td>15</td>\n",
       "      <td>57</td>\n",
       "      <td>10.0</td>\n",
       "    </tr>\n",
       "    <tr>\n",
       "      <th>Thuringia</th>\n",
       "      <td>77</td>\n",
       "      <td>63</td>\n",
       "      <td>1</td>\n",
       "      <td>3</td>\n",
       "      <td>12</td>\n",
       "      <td>54</td>\n",
       "      <td>NaN</td>\n",
       "    </tr>\n",
       "    <tr>\n",
       "      <th>Saxony-Anhalt</th>\n",
       "      <td>67</td>\n",
       "      <td>60</td>\n",
       "      <td>0</td>\n",
       "      <td>7</td>\n",
       "      <td>14</td>\n",
       "      <td>45</td>\n",
       "      <td>NaN</td>\n",
       "    </tr>\n",
       "    <tr>\n",
       "      <th>Bremen</th>\n",
       "      <td>57</td>\n",
       "      <td>56</td>\n",
       "      <td>2</td>\n",
       "      <td>5</td>\n",
       "      <td>14</td>\n",
       "      <td>68</td>\n",
       "      <td>20.0</td>\n",
       "    </tr>\n",
       "    <tr>\n",
       "      <th>Mecklenburg-West Pomerania</th>\n",
       "      <td>51</td>\n",
       "      <td>50</td>\n",
       "      <td>3</td>\n",
       "      <td>3</td>\n",
       "      <td>14</td>\n",
       "      <td>55</td>\n",
       "      <td>19.0</td>\n",
       "    </tr>\n",
       "  </tbody>\n",
       "</table>\n",
       "</div>"
      ],
      "text/plain": [
       "                            2020-03-16 00:00:00  2020-03-15 00:00:00  \\\n",
       "North Rhine-Westphalia                     2744                 2493   \n",
       "Baden-Wuerttemberg                         1105                  977   \n",
       "Bavaria                                    1067                  886   \n",
       "Lower Saxony                                391                  287   \n",
       "Berlin                                      342                  283   \n",
       "Hesse                                       332                  282   \n",
       "Rhineland-Palatinate                        325                  200   \n",
       "Hamburg                                     260                  196   \n",
       "Saxony                                      152                  134   \n",
       "Schleswig-Holstein                          123                  123   \n",
       "Brandenburg                                  94                   84   \n",
       "Saarland                                     85                   74   \n",
       "Thuringia                                    77                   63   \n",
       "Saxony-Anhalt                                67                   60   \n",
       "Bremen                                       57                   56   \n",
       "Mecklenburg-West Pomerania                   51                   50   \n",
       "\n",
       "                            2020-03-03 00:00:00  Min  Max  Humidity  Wind  \n",
       "North Rhine-Westphalia                      111    7   15        66   NaN  \n",
       "Baden-Wuerttemberg                           44   -1   15        64   NaN  \n",
       "Bavaria                                      48   -4   14        70   NaN  \n",
       "Lower Saxony                                  4    4   14        59   NaN  \n",
       "Berlin                                        6    0   12        46   NaN  \n",
       "Hesse                                        12    3   14        62   NaN  \n",
       "Rhineland-Palatinate                          2    3   14        62   NaN  \n",
       "Hamburg                                       2    3   14        61  24.0  \n",
       "Saxony                                        1    1    9        42  25.0  \n",
       "Schleswig-Holstein                            2    6   13        65  22.0  \n",
       "Brandenburg                                   1    0   11        67   NaN  \n",
       "Saarland                                      1    5   15        57  10.0  \n",
       "Thuringia                                     1    3   12        54   NaN  \n",
       "Saxony-Anhalt                                 0    7   14        45   NaN  \n",
       "Bremen                                        2    5   14        68  20.0  \n",
       "Mecklenburg-West Pomerania                    3    3   14        55  19.0  "
      ]
     },
     "execution_count": 2,
     "metadata": {},
     "output_type": "execute_result"
    }
   ],
   "source": [
    "os.chdir('/Users/dangngochuy/Desktop/Hertie/Thesis/Covid19_vs_Climate/data')\n",
    "df = pd.read_excel('Germany.xlsx', index_col=0)\n",
    "df"
   ]
  },
  {
   "cell_type": "code",
   "execution_count": 3,
   "metadata": {
    "ExecuteTime": {
     "end_time": "2020-03-17T08:27:27.230232Z",
     "start_time": "2020-03-17T08:27:25.722593Z"
    }
   },
   "outputs": [
    {
     "data": {
      "text/html": [
       "<div>\n",
       "<style scoped>\n",
       "    .dataframe tbody tr th:only-of-type {\n",
       "        vertical-align: middle;\n",
       "    }\n",
       "\n",
       "    .dataframe tbody tr th {\n",
       "        vertical-align: top;\n",
       "    }\n",
       "\n",
       "    .dataframe thead th {\n",
       "        text-align: right;\n",
       "    }\n",
       "</style>\n",
       "<table border=\"1\" class=\"dataframe\">\n",
       "  <thead>\n",
       "    <tr style=\"text-align: right;\">\n",
       "      <th></th>\n",
       "      <th>key_0</th>\n",
       "      <th>Temp - 16oC</th>\n",
       "      <th>Humidity - 75%</th>\n",
       "      <th>Infected cases</th>\n",
       "    </tr>\n",
       "  </thead>\n",
       "  <tbody>\n",
       "    <tr>\n",
       "      <th>0</th>\n",
       "      <td>North Rhine-Westphalia</td>\n",
       "      <td>-1</td>\n",
       "      <td>-9</td>\n",
       "      <td>7.917172</td>\n",
       "    </tr>\n",
       "    <tr>\n",
       "      <th>1</th>\n",
       "      <td>Baden-Wuerttemberg</td>\n",
       "      <td>-1</td>\n",
       "      <td>-11</td>\n",
       "      <td>7.007601</td>\n",
       "    </tr>\n",
       "    <tr>\n",
       "      <th>2</th>\n",
       "      <td>Bavaria</td>\n",
       "      <td>-2</td>\n",
       "      <td>-5</td>\n",
       "      <td>6.972606</td>\n",
       "    </tr>\n",
       "    <tr>\n",
       "      <th>3</th>\n",
       "      <td>Lower Saxony</td>\n",
       "      <td>-2</td>\n",
       "      <td>-16</td>\n",
       "      <td>5.968708</td>\n",
       "    </tr>\n",
       "    <tr>\n",
       "      <th>4</th>\n",
       "      <td>Berlin</td>\n",
       "      <td>-4</td>\n",
       "      <td>-29</td>\n",
       "      <td>5.834811</td>\n",
       "    </tr>\n",
       "    <tr>\n",
       "      <th>5</th>\n",
       "      <td>Hesse</td>\n",
       "      <td>-2</td>\n",
       "      <td>-13</td>\n",
       "      <td>5.805135</td>\n",
       "    </tr>\n",
       "    <tr>\n",
       "      <th>6</th>\n",
       "      <td>Rhineland-Palatinate</td>\n",
       "      <td>-2</td>\n",
       "      <td>-13</td>\n",
       "      <td>5.783825</td>\n",
       "    </tr>\n",
       "    <tr>\n",
       "      <th>7</th>\n",
       "      <td>Hamburg</td>\n",
       "      <td>-2</td>\n",
       "      <td>-14</td>\n",
       "      <td>5.560682</td>\n",
       "    </tr>\n",
       "    <tr>\n",
       "      <th>8</th>\n",
       "      <td>Saxony</td>\n",
       "      <td>-7</td>\n",
       "      <td>-33</td>\n",
       "      <td>5.023881</td>\n",
       "    </tr>\n",
       "    <tr>\n",
       "      <th>9</th>\n",
       "      <td>Schleswig-Holstein</td>\n",
       "      <td>-3</td>\n",
       "      <td>-10</td>\n",
       "      <td>4.812184</td>\n",
       "    </tr>\n",
       "    <tr>\n",
       "      <th>10</th>\n",
       "      <td>Brandenburg</td>\n",
       "      <td>-5</td>\n",
       "      <td>-8</td>\n",
       "      <td>4.543295</td>\n",
       "    </tr>\n",
       "    <tr>\n",
       "      <th>11</th>\n",
       "      <td>Saarland</td>\n",
       "      <td>-1</td>\n",
       "      <td>-18</td>\n",
       "      <td>4.442651</td>\n",
       "    </tr>\n",
       "    <tr>\n",
       "      <th>12</th>\n",
       "      <td>Thuringia</td>\n",
       "      <td>-4</td>\n",
       "      <td>-21</td>\n",
       "      <td>4.343805</td>\n",
       "    </tr>\n",
       "    <tr>\n",
       "      <th>13</th>\n",
       "      <td>Saxony-Anhalt</td>\n",
       "      <td>-2</td>\n",
       "      <td>-30</td>\n",
       "      <td>4.204693</td>\n",
       "    </tr>\n",
       "    <tr>\n",
       "      <th>14</th>\n",
       "      <td>Bremen</td>\n",
       "      <td>-2</td>\n",
       "      <td>-7</td>\n",
       "      <td>4.043051</td>\n",
       "    </tr>\n",
       "    <tr>\n",
       "      <th>15</th>\n",
       "      <td>Mecklenburg-West Pomerania</td>\n",
       "      <td>-2</td>\n",
       "      <td>-20</td>\n",
       "      <td>3.931826</td>\n",
       "    </tr>\n",
       "  </tbody>\n",
       "</table>\n",
       "</div>"
      ],
      "text/plain": [
       "                         key_0  Temp - 16oC  Humidity - 75%  Infected cases\n",
       "0       North Rhine-Westphalia           -1              -9        7.917172\n",
       "1           Baden-Wuerttemberg           -1             -11        7.007601\n",
       "2                      Bavaria           -2              -5        6.972606\n",
       "3                 Lower Saxony           -2             -16        5.968708\n",
       "4                       Berlin           -4             -29        5.834811\n",
       "5                        Hesse           -2             -13        5.805135\n",
       "6         Rhineland-Palatinate           -2             -13        5.783825\n",
       "7                      Hamburg           -2             -14        5.560682\n",
       "8                       Saxony           -7             -33        5.023881\n",
       "9           Schleswig-Holstein           -3             -10        4.812184\n",
       "10                 Brandenburg           -5              -8        4.543295\n",
       "11                    Saarland           -1             -18        4.442651\n",
       "12                   Thuringia           -4             -21        4.343805\n",
       "13               Saxony-Anhalt           -2             -30        4.204693\n",
       "14                      Bremen           -2              -7        4.043051\n",
       "15  Mecklenburg-West Pomerania           -2             -20        3.931826"
      ]
     },
     "execution_count": 3,
     "metadata": {},
     "output_type": "execute_result"
    }
   ],
   "source": [
    "#Create new dataframe with desired columns \n",
    "y = np.log(df.iloc[:, 0]) #take log of number of cases\n",
    "y.name = 'Infected cases' \n",
    "\n",
    "#Temperature and Humidity parameter to toggle\n",
    "temp = 16\n",
    "humid = 75\n",
    "\n",
    "#create features with max temperature - 15 and humidity - 75\n",
    "x = df[['Max', 'Humidity']].sub([temp, humid])  \n",
    "x.columns = ['Temp - 16oC', 'Humidity - 75%']\n",
    "\n",
    "germany_df = pd.merge(left = x, right = y, left_on= x.index, right_on= y.index)\n",
    "germany_df"
   ]
  },
  {
   "cell_type": "code",
   "execution_count": 4,
   "metadata": {
    "ExecuteTime": {
     "end_time": "2020-03-17T08:27:27.240747Z",
     "start_time": "2020-03-17T08:27:27.234557Z"
    }
   },
   "outputs": [],
   "source": [
    "target = germany_df.loc[:,'Infected cases']\n",
    "features = germany_df.loc[:, 'Temp - 16oC':'Humidity - 75%']"
   ]
  },
  {
   "cell_type": "code",
   "execution_count": 5,
   "metadata": {
    "ExecuteTime": {
     "end_time": "2020-03-17T08:27:27.281738Z",
     "start_time": "2020-03-17T08:27:27.243378Z"
    }
   },
   "outputs": [
    {
     "name": "stdout",
     "output_type": "stream",
     "text": [
      "                                 OLS Regression Results                                \n",
      "=======================================================================================\n",
      "Dep. Variable:         Infected cases   R-squared (uncentered):                   0.721\n",
      "Model:                            OLS   Adj. R-squared (uncentered):              0.681\n",
      "Method:                 Least Squares   F-statistic:                              18.09\n",
      "Date:                Tue, 17 Mar 2020   Prob (F-statistic):                    0.000131\n",
      "Time:                        09:27:27   Log-Likelihood:                         -39.786\n",
      "No. Observations:                  16   AIC:                                      83.57\n",
      "Df Residuals:                      14   BIC:                                      85.12\n",
      "Df Model:                           2                                                  \n",
      "Covariance Type:            nonrobust                                                  \n",
      "==================================================================================\n",
      "                     coef    std err          t      P>|t|      [0.025      0.975]\n",
      "----------------------------------------------------------------------------------\n",
      "Temp - 16oC       -0.5573      0.525     -1.061      0.307      -1.684       0.569\n",
      "Humidity - 75%    -0.1721      0.089     -1.933      0.074      -0.363       0.019\n",
      "==============================================================================\n",
      "Omnibus:                        0.192   Durbin-Watson:                   1.057\n",
      "Prob(Omnibus):                  0.909   Jarque-Bera (JB):                0.211\n",
      "Skew:                          -0.197   Prob(JB):                        0.900\n",
      "Kurtosis:                       2.598   Cond. No.                         12.5\n",
      "==============================================================================\n",
      "\n",
      "Warnings:\n",
      "[1] Standard Errors assume that the covariance matrix of the errors is correctly specified.\n"
     ]
    },
    {
     "name": "stderr",
     "output_type": "stream",
     "text": [
      "/Users/dangngochuy/anaconda3/lib/python3.6/site-packages/scipy/stats/stats.py:1416: UserWarning: kurtosistest only valid for n>=20 ... continuing anyway, n=16\n",
      "  \"anyway, n=%i\" % int(n))\n"
     ]
    }
   ],
   "source": [
    "#Estimate relationship with naive OLS\n",
    "\n",
    "result = OLS(target, features, hasconst=False).fit()\n",
    "print(result.summary())"
   ]
  },
  {
   "cell_type": "code",
   "execution_count": 12,
   "metadata": {
    "ExecuteTime": {
     "end_time": "2020-03-17T08:28:45.060021Z",
     "start_time": "2020-03-17T08:28:45.051722Z"
    }
   },
   "outputs": [
    {
     "data": {
      "text/plain": [
       "-15.807766822926494"
      ]
     },
     "execution_count": 12,
     "metadata": {},
     "output_type": "execute_result"
    }
   ],
   "source": [
    "#Interpret log-transformation in linear model for humidity\n",
    "#For every one-unit increase in the independent variable, the number of covid-19 cases decreases by about 15%.\n",
    "\n",
    "humid_effect = (np.exp(result.params[1]) - 1) * 100\n",
    "humid_effect"
   ]
  },
  {
   "cell_type": "code",
   "execution_count": 14,
   "metadata": {
    "ExecuteTime": {
     "end_time": "2020-03-17T08:29:22.194025Z",
     "start_time": "2020-03-17T08:29:22.184339Z"
    }
   },
   "outputs": [
    {
     "data": {
      "text/plain": [
       "-42.72305805787864"
      ]
     },
     "execution_count": 14,
     "metadata": {},
     "output_type": "execute_result"
    }
   ],
   "source": [
    "#Interpret log-transformation in linear model for temperature\n",
    "#For every one-unit increase in the independent variable, the number of covid-19 cases decreases by about 42%.\n",
    "\n",
    "temp_effect = (np.exp(result.params[0]) - 1) * 100\n",
    "temp_effect"
   ]
  },
  {
   "cell_type": "code",
   "execution_count": 8,
   "metadata": {
    "ExecuteTime": {
     "end_time": "2020-03-17T08:27:27.911596Z",
     "start_time": "2020-03-17T08:27:27.401617Z"
    }
   },
   "outputs": [
    {
     "data": {
      "text/plain": [
       "<matplotlib.axes._subplots.AxesSubplot at 0x12ab27860>"
      ]
     },
     "execution_count": 8,
     "metadata": {},
     "output_type": "execute_result"
    },
    {
     "data": {
      "image/png": "[encoded data removed]",
      "text/plain": [
       "<Figure size 432x288 with 1 Axes>"
      ]
     },
     "metadata": {
      "needs_background": "light"
     },
     "output_type": "display_data"
    }
   ],
   "source": [
    "#Scatter plot between the number of cases and temperature \n",
    "\n",
    "sns.regplot(x=features.iloc[:,0], y=target, data=germany_df)"
   ]
  },
  {
   "cell_type": "code",
   "execution_count": 9,
   "metadata": {
    "ExecuteTime": {
     "end_time": "2020-03-17T08:27:28.229992Z",
     "start_time": "2020-03-17T08:27:27.914448Z"
    }
   },
   "outputs": [
    {
     "data": {
      "text/plain": [
       "<matplotlib.axes._subplots.AxesSubplot at 0x12abf3c18>"
      ]
     },
     "execution_count": 9,
     "metadata": {},
     "output_type": "execute_result"
    },
    {
     "data": {
      "image/png": "[encoded data removed]",
      "text/plain": [
       "<Figure size 432x288 with 1 Axes>"
      ]
     },
     "metadata": {
      "needs_background": "light"
     },
     "output_type": "display_data"
    }
   ],
   "source": [
    "\n",
    "sns.regplot(x=features.iloc[:,1], y=target, data=germany_df)"
   ]
  },
  {
   "cell_type": "code",
   "execution_count": 10,
   "metadata": {
    "ExecuteTime": {
     "end_time": "2020-03-17T08:27:28.666221Z",
     "start_time": "2020-03-17T08:27:28.232933Z"
    }
   },
   "outputs": [
    {
     "data": {
      "text/plain": [
       "<matplotlib.axes._subplots.AxesSubplot at 0x12ad6c2e8>"
      ]
     },
     "execution_count": 10,
     "metadata": {},
     "output_type": "execute_result"
    },
    {
     "data": {
      "image/png": "[encoded data removed]",
      "text/plain": [
       "<Figure size 432x288 with 1 Axes>"
      ]
     },
     "metadata": {
      "needs_background": "light"
     },
     "output_type": "display_data"
    }
   ],
   "source": [
    "sns.regplot(x=(df.iloc[:,-1]-75), y=df.iloc[:,0], data=df)\n"
   ]
  },
  {
   "cell_type": "code",
   "execution_count": 11,
   "metadata": {
    "ExecuteTime": {
     "end_time": "2020-03-17T08:27:28.689797Z",
     "start_time": "2020-03-17T08:27:28.669089Z"
    }
   },
   "outputs": [
    {
     "name": "stdout",
     "output_type": "stream",
     "text": [
      "                                 OLS Regression Results                                \n",
      "=======================================================================================\n",
      "Dep. Variable:            Growth rate   R-squared (uncentered):                   0.858\n",
      "Model:                            OLS   Adj. R-squared (uncentered):              0.837\n",
      "Method:                 Least Squares   F-statistic:                              42.19\n",
      "Date:                Tue, 17 Mar 2020   Prob (F-statistic):                    1.18e-06\n",
      "Time:                        09:27:28   Log-Likelihood:                         -29.611\n",
      "No. Observations:                  16   AIC:                                      63.22\n",
      "Df Residuals:                      14   BIC:                                      64.77\n",
      "Df Model:                           2                                                  \n",
      "Covariance Type:            nonrobust                                                  \n",
      "==================================================================================\n",
      "                     coef    std err          t      P>|t|      [0.025      0.975]\n",
      "----------------------------------------------------------------------------------\n",
      "Temp - 16oC       -0.5379      0.278     -1.934      0.074      -1.134       0.059\n",
      "Humidity - 75%    -0.1247      0.047     -2.647      0.019      -0.226      -0.024\n",
      "==============================================================================\n",
      "Omnibus:                        4.411   Durbin-Watson:                   1.954\n",
      "Prob(Omnibus):                  0.110   Jarque-Bera (JB):                2.749\n",
      "Skew:                          -1.015   Prob(JB):                        0.253\n",
      "Kurtosis:                       3.069   Cond. No.                         12.5\n",
      "==============================================================================\n",
      "\n",
      "Warnings:\n",
      "[1] Standard Errors assume that the covariance matrix of the errors is correctly specified.\n"
     ]
    }
   ],
   "source": [
    "df.iloc[-3, 2] = 1\n",
    "y = np.log(df.iloc[:, 0]/df.iloc[:, 2])\n",
    "y.name = 'Growth rate'\n",
    "res = OLS(y, x, hasconst=False).fit()\n",
    "print(res.summary())"
   ]
  },
  {
   "cell_type": "code",
   "execution_count": null,
   "metadata": {},
   "outputs": [],
   "source": []
  }
 ],
 "metadata": {
  "kernelspec": {
   "display_name": "Python 3",
   "language": "python",
   "name": "python3"
  },
  "language_info": {
   "codemirror_mode": {
    "name": "ipython",
    "version": 3
   },
   "file_extension": ".py",
   "mimetype": "text/x-python",
   "name": "python",
   "nbconvert_exporter": "python",
   "pygments_lexer": "ipython3",
   "version": "3.6.5"
  }
 },
 "nbformat": 4,
 "nbformat_minor": 2
}
